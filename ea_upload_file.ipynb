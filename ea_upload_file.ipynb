{
 "cells": [
  {
   "cell_type": "markdown",
   "metadata": {},
   "source": [
    "### Purpose: Clean and transform raw FDS output into an eVestment Alliance friendly upload file"
   ]
  },
  {
   "cell_type": "code",
   "execution_count": 71,
   "metadata": {},
   "outputs": [],
   "source": [
    "# Import dependencies\n",
    "import numpy as np\n",
    "import pandas as pd\n",
    "import xlsxwriter"
   ]
  },
  {
   "cell_type": "markdown",
   "metadata": {},
   "source": [
    "#### Step 1 - Market Cap"
   ]
  },
  {
   "cell_type": "code",
   "execution_count": 72,
   "metadata": {},
   "outputs": [],
   "source": [
    "# Ensure all mkt cap ranges are preserved even if not in FDS report (because no weight in a particular period)\r\n",
    "buckets = pd.read_csv('buckets.csv')"
   ]
  },
  {
   "cell_type": "code",
   "execution_count": 74,
   "metadata": {},
   "outputs": [
    {
     "data": {
      "text/html": "<div>\n<style scoped>\n    .dataframe tbody tr th:only-of-type {\n        vertical-align: middle;\n    }\n\n    .dataframe tbody tr th {\n        vertical-align: top;\n    }\n\n    .dataframe thead th {\n        text-align: right;\n    }\n</style>\n<table border=\"1\" class=\"dataframe\">\n  <thead>\n    <tr style=\"text-align: right;\">\n      <th></th>\n      <th>Label</th>\n      <th>ABC</th>\n      <th>XYX</th>\n      <th>ZZZ</th>\n    </tr>\n  </thead>\n  <tbody>\n    <tr>\n      <th>0</th>\n      <td>&gt; $50 Billion</td>\n      <td>43.9</td>\n      <td>84.52</td>\n      <td>37.63</td>\n    </tr>\n    <tr>\n      <th>1</th>\n      <td>$25-50 Billion</td>\n      <td>32.46</td>\n      <td>14.49</td>\n      <td>18.93</td>\n    </tr>\n    <tr>\n      <th>2</th>\n      <td>$15-25 Billion</td>\n      <td>11.972483</td>\n      <td>0.989023</td>\n      <td>15.315204</td>\n    </tr>\n    <tr>\n      <th>3</th>\n      <td>$10-15 Billion</td>\n      <td>7.205876</td>\n      <td>--</td>\n      <td>8.140186</td>\n    </tr>\n    <tr>\n      <th>4</th>\n      <td>$7.5-10 Billion</td>\n      <td>3.131328</td>\n      <td>--</td>\n      <td>5.43</td>\n    </tr>\n    <tr>\n      <th>5</th>\n      <td>$7-7.5 Billion</td>\n      <td>0.338347</td>\n      <td>--</td>\n      <td>3.61</td>\n    </tr>\n    <tr>\n      <th>6</th>\n      <td>$5-7 Billion</td>\n      <td>0.764615</td>\n      <td>--</td>\n      <td>6.655106</td>\n    </tr>\n    <tr>\n      <th>7</th>\n      <td>$2.5-5 Billion</td>\n      <td>0.228641</td>\n      <td>--</td>\n      <td>4.294145</td>\n    </tr>\n  </tbody>\n</table>\n</div>",
      "text/plain": "0            Label        ABC       XYX        ZZZ\n0    > $50 Billion       43.9     84.52      37.63\n1   $25-50 Billion      32.46     14.49      18.93\n2   $15-25 Billion  11.972483  0.989023  15.315204\n3   $10-15 Billion   7.205876        --   8.140186\n4  $7.5-10 Billion   3.131328        --       5.43\n5   $7-7.5 Billion   0.338347        --       3.61\n6     $5-7 Billion   0.764615        --   6.655106\n7   $2.5-5 Billion   0.228641        --   4.294145"
     },
     "execution_count": 74,
     "metadata": {},
     "output_type": "execute_result"
    }
   ],
   "source": [
    "# Read in 'mc' tab from excel file containing the FDS market cap output\r\n",
    "mc_df = pd.read_excel('eA_template.xlsx', sheet_name = 'mc', skiprows=5, skipfooter =2) \r\n",
    "headers = mc_df.iloc[0]\r\n",
    "mc_df = pd.DataFrame(mc_df.values[2:], columns=headers)\r\n",
    "mc_df.columns.values[0] = 'Label'\r\n",
    "mc_df"
   ]
  },
  {
   "cell_type": "code",
   "execution_count": 75,
   "metadata": {},
   "outputs": [],
   "source": [
    "# Merge mc_df and buckets to make sure have all the market cap ranges\n",
    "mc = pd.merge(left = buckets, right = mc_df, how = 'left', on = \"Label\")"
   ]
  },
  {
   "cell_type": "code",
   "execution_count": 76,
   "metadata": {},
   "outputs": [
    {
     "name": "stdout",
     "output_type": "stream",
     "text": [
      "Date:  3/31/2021\n",
      "Currency:  USD\n"
     ]
    }
   ],
   "source": [
    "# get report data and report currency from mc tab\n",
    "date_df = pd.read_excel('eA_template.xlsx', sheet_name = 'mc')\n",
    "report_date = date_df.iloc[4,0]\n",
    "report_currency = date_df.iloc[0,0]\n",
    "print('Date: ', report_date)\n",
    "print('Currency: ', report_currency)"
   ]
  },
  {
   "cell_type": "markdown",
   "metadata": {},
   "source": [
    "#### Step 2 - Transform market cap dataframe data into eVestment format"
   ]
  },
  {
   "cell_type": "code",
   "execution_count": 77,
   "metadata": {},
   "outputs": [
    {
     "data": {
      "text/plain": "['ABC', 'XYX', 'ZZZ']"
     },
     "execution_count": 77,
     "metadata": {},
     "output_type": "execute_result"
    }
   ],
   "source": [
    "## Create list of all products included in MC USD tab.  Will provide as variable below.  This is scalable, if add new products.\n",
    "mc_cols = list(mc.columns)\n",
    "mc_cols = mc_cols[1:]\n",
    "mc_cols"
   ]
  },
  {
   "cell_type": "code",
   "execution_count": 78,
   "metadata": {},
   "outputs": [],
   "source": [
    "##  Repeat MC buckets and create Product Name column for each product\n",
    "mc_melted = pd.melt(mc, id_vars=['Label'], value_vars = mc_cols,\n",
    "var_name = 'Product', value_name = 'Value')"
   ]
  },
  {
   "cell_type": "code",
   "execution_count": 79,
   "metadata": {},
   "outputs": [],
   "source": [
    "## Replace any '--' and 'na's' with 0\n",
    "mc_melted['Value'].replace('--',0, inplace = True)\n",
    "mc_melted['Value'].fillna(0, inplace = True)"
   ]
  },
  {
   "cell_type": "code",
   "execution_count": 80,
   "metadata": {},
   "outputs": [],
   "source": [
    "## Add Date Column\n",
    "mc_melted.insert(0, 'Date', report_date)"
   ]
  },
  {
   "cell_type": "code",
   "execution_count": 81,
   "metadata": {},
   "outputs": [],
   "source": [
    "## Use 'Label' column to create 'eA Characteristic' column, this is only for market cap\n",
    "\n",
    "def assign_mc_name(label):\n",
    "    if label == '> $50 Billion':\n",
    "        return 'Capitalization Ranges-> $50 Billion'\n",
    "    elif label == '$25-50 Billion':\n",
    "        return 'Capitalization Ranges-$25-50 Billion'\n",
    "    elif label == '$15-25 Billion':\n",
    "        return 'Capitalization Ranges-$15-25 Billion'\n",
    "    elif label == '$10-15 Billion':\n",
    "        return 'Capitalization Ranges-$10-15 Billion'\n",
    "    elif label == '$7.5-10 Billion':\n",
    "        return 'Capitalization Ranges-$7.5-10 Billion'\n",
    "    elif label == '$7-7.5 Billion':\n",
    "        return 'Capitalization Ranges-$7-7.5 Billion'\n",
    "    elif label == '$5-7 Billion':\n",
    "        return 'Capitalization Ranges-$5-7 Billion'\n",
    "    elif label == '$2.5-5 Billion':\n",
    "        return 'Capitalization Ranges-$2.5-5 Billion'\n",
    "    elif label == '$2-2.5 Billion':\n",
    "        return 'Capitalization Ranges-$2-2.5 Billion'\n",
    "    elif label == '$1.5-2 Billion':\n",
    "        return 'Capitalization Ranges-$1.5-2 Billion'\n",
    "    elif label == '$750-1.5 Billion':\n",
    "        return 'Capitalization Ranges-$750-1.5 Billion'\n",
    "    elif label == '$500-750 Million':\n",
    "        return 'Capitalization Ranges-$500-750 Million'\n",
    "    elif label == '$400-500 Million':\n",
    "        return 'Capitalization Ranges-$400-500 Million'\n",
    "    elif label == '< $400 Million':\n",
    "        return 'Capitalization Ranges-< $400 Million'\n",
    "    else:\n",
    "        return 'Houston, we have a prob'    "
   ]
  },
  {
   "cell_type": "code",
   "execution_count": 82,
   "metadata": {},
   "outputs": [],
   "source": [
    "mc_melted['eA Characteristic'] = mc_melted['Label'].apply(assign_mc_name)"
   ]
  },
  {
   "cell_type": "code",
   "execution_count": 83,
   "metadata": {},
   "outputs": [],
   "source": [
    "# Use 'Label' column to create 'Category' column, this is again, only for market cap\n",
    "\n",
    "def assign_category(label):\n",
    "    group = ('> $50 Billion', '$25-50 Billion', '$15-25 Billion', '$10-15 Billion', \n",
    "             '$7.5-10 Billion', '$7-7.5 Billion', '$5-7 Billion', '$2.5-5 Billion', \n",
    "             '$2-2.5 Billion', '$1.5-2 Billion', '$750-1.5 Billion', '$500-750 Million', \n",
    "             '$400-500 Million', '< $400 Million')\n",
    "    \n",
    "    if label in group:\n",
    "        return 'Capitalization Ranges'\n",
    "    else:\n",
    "        return 'Houston, we have a prob'\n",
    "    \n",
    "# Apply the assign category function\n",
    "mc_melted['Category'] = mc_melted['Label'].apply(assign_category)\n",
    "\n",
    "# Rearrange order of cols\n",
    "mc_melted = mc_melted[['Date','Product', 'Category', 'Label', 'Value', 'eA Characteristic']]"
   ]
  },
  {
   "cell_type": "code",
   "execution_count": 84,
   "metadata": {},
   "outputs": [],
   "source": [
    "# Create a function to change product ID to eVestment Name\n",
    "\n",
    "def change_name(product):\n",
    "    if product == 'IEV-US':\n",
    "        return 'iShares Europe ETF'\n",
    "    elif product ==  'IOO-US':\n",
    "        return 'ishares Global 100 ETF'\n",
    "    elif product == 'EWJ-US':\n",
    "        return 'ishares MSCI Japan ETF'\n",
    "    else:\n",
    "        return product\n",
    "\n",
    "# Run the change_name function\n",
    "mc_melted['Product'] = mc_melted['Product'].apply(change_name)"
   ]
  },
  {
   "cell_type": "code",
   "execution_count": 85,
   "metadata": {},
   "outputs": [
    {
     "data": {
      "text/html": "<div>\n<style scoped>\n    .dataframe tbody tr th:only-of-type {\n        vertical-align: middle;\n    }\n\n    .dataframe tbody tr th {\n        vertical-align: top;\n    }\n\n    .dataframe thead th {\n        text-align: right;\n    }\n</style>\n<table border=\"1\" class=\"dataframe\">\n  <thead>\n    <tr style=\"text-align: right;\">\n      <th></th>\n      <th>Date</th>\n      <th>Product</th>\n      <th>Category</th>\n      <th>Label</th>\n      <th>Value</th>\n      <th>eA Characteristic</th>\n    </tr>\n  </thead>\n  <tbody>\n    <tr>\n      <th>0</th>\n      <td>3/31/2021</td>\n      <td>ABC</td>\n      <td>Capitalization Ranges</td>\n      <td>&gt; $50 Billion</td>\n      <td>43.900000</td>\n      <td>Capitalization Ranges-&gt; $50 Billion</td>\n    </tr>\n    <tr>\n      <th>1</th>\n      <td>3/31/2021</td>\n      <td>ABC</td>\n      <td>Capitalization Ranges</td>\n      <td>$25-50 Billion</td>\n      <td>32.460000</td>\n      <td>Capitalization Ranges-$25-50 Billion</td>\n    </tr>\n    <tr>\n      <th>2</th>\n      <td>3/31/2021</td>\n      <td>ABC</td>\n      <td>Capitalization Ranges</td>\n      <td>$15-25 Billion</td>\n      <td>11.972483</td>\n      <td>Capitalization Ranges-$15-25 Billion</td>\n    </tr>\n    <tr>\n      <th>3</th>\n      <td>3/31/2021</td>\n      <td>ABC</td>\n      <td>Capitalization Ranges</td>\n      <td>$10-15 Billion</td>\n      <td>7.205876</td>\n      <td>Capitalization Ranges-$10-15 Billion</td>\n    </tr>\n    <tr>\n      <th>4</th>\n      <td>3/31/2021</td>\n      <td>ABC</td>\n      <td>Capitalization Ranges</td>\n      <td>$7.5-10 Billion</td>\n      <td>3.131328</td>\n      <td>Capitalization Ranges-$7.5-10 Billion</td>\n    </tr>\n    <tr>\n      <th>5</th>\n      <td>3/31/2021</td>\n      <td>ABC</td>\n      <td>Capitalization Ranges</td>\n      <td>$7-7.5 Billion</td>\n      <td>0.338347</td>\n      <td>Capitalization Ranges-$7-7.5 Billion</td>\n    </tr>\n    <tr>\n      <th>6</th>\n      <td>3/31/2021</td>\n      <td>ABC</td>\n      <td>Capitalization Ranges</td>\n      <td>$5-7 Billion</td>\n      <td>0.764615</td>\n      <td>Capitalization Ranges-$5-7 Billion</td>\n    </tr>\n    <tr>\n      <th>7</th>\n      <td>3/31/2021</td>\n      <td>ABC</td>\n      <td>Capitalization Ranges</td>\n      <td>$2.5-5 Billion</td>\n      <td>0.228641</td>\n      <td>Capitalization Ranges-$2.5-5 Billion</td>\n    </tr>\n    <tr>\n      <th>8</th>\n      <td>3/31/2021</td>\n      <td>ABC</td>\n      <td>Capitalization Ranges</td>\n      <td>$2-2.5 Billion</td>\n      <td>0.000000</td>\n      <td>Capitalization Ranges-$2-2.5 Billion</td>\n    </tr>\n    <tr>\n      <th>9</th>\n      <td>3/31/2021</td>\n      <td>ABC</td>\n      <td>Capitalization Ranges</td>\n      <td>$1.5-2 Billion</td>\n      <td>0.000000</td>\n      <td>Capitalization Ranges-$1.5-2 Billion</td>\n    </tr>\n  </tbody>\n</table>\n</div>",
      "text/plain": "        Date Product               Category            Label      Value  \\\n0  3/31/2021     ABC  Capitalization Ranges    > $50 Billion  43.900000   \n1  3/31/2021     ABC  Capitalization Ranges   $25-50 Billion  32.460000   \n2  3/31/2021     ABC  Capitalization Ranges   $15-25 Billion  11.972483   \n3  3/31/2021     ABC  Capitalization Ranges   $10-15 Billion   7.205876   \n4  3/31/2021     ABC  Capitalization Ranges  $7.5-10 Billion   3.131328   \n5  3/31/2021     ABC  Capitalization Ranges   $7-7.5 Billion   0.338347   \n6  3/31/2021     ABC  Capitalization Ranges     $5-7 Billion   0.764615   \n7  3/31/2021     ABC  Capitalization Ranges   $2.5-5 Billion   0.228641   \n8  3/31/2021     ABC  Capitalization Ranges   $2-2.5 Billion   0.000000   \n9  3/31/2021     ABC  Capitalization Ranges   $1.5-2 Billion   0.000000   \n\n                       eA Characteristic  \n0    Capitalization Ranges-> $50 Billion  \n1   Capitalization Ranges-$25-50 Billion  \n2   Capitalization Ranges-$15-25 Billion  \n3   Capitalization Ranges-$10-15 Billion  \n4  Capitalization Ranges-$7.5-10 Billion  \n5   Capitalization Ranges-$7-7.5 Billion  \n6     Capitalization Ranges-$5-7 Billion  \n7   Capitalization Ranges-$2.5-5 Billion  \n8   Capitalization Ranges-$2-2.5 Billion  \n9   Capitalization Ranges-$1.5-2 Billion  "
     },
     "execution_count": 85,
     "metadata": {},
     "output_type": "execute_result"
    }
   ],
   "source": [
    "# Final market cap dataframe\n",
    "mc_melted.head(10)"
   ]
  },
  {
   "cell_type": "markdown",
   "metadata": {},
   "source": [
    "#### Step 3 - Import `Sector`  Tab"
   ]
  },
  {
   "cell_type": "code",
   "execution_count": 86,
   "metadata": {},
   "outputs": [
    {
     "data": {
      "text/html": "<div>\n<style scoped>\n    .dataframe tbody tr th:only-of-type {\n        vertical-align: middle;\n    }\n\n    .dataframe tbody tr th {\n        vertical-align: top;\n    }\n\n    .dataframe thead th {\n        text-align: right;\n    }\n</style>\n<table border=\"1\" class=\"dataframe\">\n  <thead>\n    <tr style=\"text-align: right;\">\n      <th></th>\n      <th>Label</th>\n      <th>ABC</th>\n      <th>XYX</th>\n      <th>ZZZ</th>\n    </tr>\n  </thead>\n  <tbody>\n    <tr>\n      <th>0</th>\n      <td>Communication Services</td>\n      <td>5.73</td>\n      <td>6.45</td>\n      <td>7.63</td>\n    </tr>\n    <tr>\n      <th>1</th>\n      <td>Consumer Discretionary</td>\n      <td>9.86</td>\n      <td>16.48</td>\n      <td>20.71</td>\n    </tr>\n    <tr>\n      <th>2</th>\n      <td>Consumer Staples</td>\n      <td>12.449602</td>\n      <td>11.192407</td>\n      <td>7.072424</td>\n    </tr>\n    <tr>\n      <th>3</th>\n      <td>Energy</td>\n      <td>4.530575</td>\n      <td>4.817289</td>\n      <td>0.639922</td>\n    </tr>\n    <tr>\n      <th>4</th>\n      <td>Financials</td>\n      <td>16.423228</td>\n      <td>10.750525</td>\n      <td>9.062188</td>\n    </tr>\n    <tr>\n      <th>5</th>\n      <td>Health Care</td>\n      <td>13.460141</td>\n      <td>12.487556</td>\n      <td>10.008099</td>\n    </tr>\n    <tr>\n      <th>6</th>\n      <td>Industrials</td>\n      <td>15.278096</td>\n      <td>6.14538</td>\n      <td>21.071196</td>\n    </tr>\n    <tr>\n      <th>7</th>\n      <td>Information Technology</td>\n      <td>8.108733</td>\n      <td>28.162992</td>\n      <td>13.673895</td>\n    </tr>\n    <tr>\n      <th>8</th>\n      <td>Materials</td>\n      <td>8.302382</td>\n      <td>2.134073</td>\n      <td>5.231248</td>\n    </tr>\n    <tr>\n      <th>9</th>\n      <td>Real Estate</td>\n      <td>1.313005</td>\n      <td>0.63731</td>\n      <td>3.60585</td>\n    </tr>\n    <tr>\n      <th>10</th>\n      <td>Utilities</td>\n      <td>4.544328</td>\n      <td>0.741022</td>\n      <td>1.293905</td>\n    </tr>\n  </tbody>\n</table>\n</div>",
      "text/plain": "0                    Label        ABC        XYX        ZZZ\n0   Communication Services       5.73       6.45       7.63\n1   Consumer Discretionary       9.86      16.48      20.71\n2         Consumer Staples  12.449602  11.192407   7.072424\n3                   Energy   4.530575   4.817289   0.639922\n4               Financials  16.423228  10.750525   9.062188\n5              Health Care  13.460141  12.487556  10.008099\n6              Industrials  15.278096    6.14538  21.071196\n7   Information Technology   8.108733  28.162992  13.673895\n8                Materials   8.302382   2.134073   5.231248\n9              Real Estate   1.313005    0.63731    3.60585\n10               Utilities   4.544328   0.741022   1.293905"
     },
     "execution_count": 86,
     "metadata": {},
     "output_type": "execute_result"
    }
   ],
   "source": [
    "sector_df = pd.read_excel('eA_template.xlsx', sheet_name = 'sector',skiprows=5, skipfooter =2) \n",
    "sector_headers = sector_df.iloc[0]\n",
    "sector_df = pd.DataFrame(sector_df.values[2:], columns=sector_headers)\n",
    "sector_df.columns.values[0] = 'Label'\n",
    "sector_df"
   ]
  },
  {
   "cell_type": "markdown",
   "metadata": {},
   "source": [
    "#### Step 4 - Transform `sector` data into Seismic format"
   ]
  },
  {
   "cell_type": "code",
   "execution_count": 87,
   "metadata": {},
   "outputs": [
    {
     "data": {
      "text/plain": "['ABC', 'XYX', 'ZZZ']"
     },
     "execution_count": 87,
     "metadata": {},
     "output_type": "execute_result"
    }
   ],
   "source": [
    "## Create list of all products included in sector tab.  Will provide as variable below.  This is scalable, if add new products.\n",
    "sector_cols = list(sector_df.columns)\n",
    "## Excludes Label and MSCI ACWI from list\n",
    "sector_cols = sector_cols[1:]\n",
    "sector_cols"
   ]
  },
  {
   "cell_type": "code",
   "execution_count": 88,
   "metadata": {},
   "outputs": [],
   "source": [
    "##  Repeat Sector buckets and create Product Name column for each product\n",
    "sector_melted = pd.melt(sector_df, id_vars=['Label'], value_vars = sector_cols,\n",
    "var_name = 'Product', value_name = 'Value')"
   ]
  },
  {
   "cell_type": "code",
   "execution_count": 89,
   "metadata": {},
   "outputs": [],
   "source": [
    "# Replace  -- from import file with 0\n",
    "sector_melted['Value'].replace('--', 0, inplace = True)"
   ]
  },
  {
   "cell_type": "code",
   "execution_count": 90,
   "metadata": {},
   "outputs": [],
   "source": [
    "## Removing Unassigned rows where 'Value' = 0\n",
    "sector_melted = sector_melted.drop(sector_melted[(sector_melted['Label'] == '[Unassigned]') & (sector_melted['Value'] == 0.0)].index)"
   ]
  },
  {
   "cell_type": "code",
   "execution_count": 91,
   "metadata": {},
   "outputs": [],
   "source": [
    "## Add Date Column\n",
    "sector_melted.insert(0, 'Date', report_date)"
   ]
  },
  {
   "cell_type": "code",
   "execution_count": 92,
   "metadata": {},
   "outputs": [],
   "source": [
    "## Create function to leverage sector names from 'Label' column to create relevant 'eA Characteristic' column\n",
    "\n",
    "def assign_sector_name(label):\n",
    "    if label == 'Communication Services':\n",
    "        return 'Equity sector allocations-Communication Services'\n",
    "    elif label == 'Consumer Discretionary':\n",
    "        return 'Equity sector allocations-Consumer Discretionary'\n",
    "    elif label == 'Consumer Staples':\n",
    "        return 'Equity sector allocations-Consumer Staples'\n",
    "    elif label == 'Energy':\n",
    "        return 'Equity sector allocations-Energy'\n",
    "    elif label == 'Financials':\n",
    "        return 'Equity sector allocations-Financials'\n",
    "    elif label == 'Health Care':\n",
    "        return 'Equity sector allocations-Health Care'\n",
    "    elif label == 'Industrials':\n",
    "        return 'Equity sector allocations-Industrials'\n",
    "    elif label == 'Information Technology':\n",
    "        return 'Equity sector allocations-Information Technology'\n",
    "    elif label == 'Materials':\n",
    "        return 'Equity sector allocations-Materials'\n",
    "    elif label == 'Real Estate':\n",
    "        return 'Equity sector allocations-Real Estate'\n",
    "    elif label == 'Utilities':\n",
    "        return 'Equity sector allocations-Utilities'\n",
    "    elif label == 'Telecommunication Services':\n",
    "        return 'Equity sector allocations-Telecommunication Services' \n",
    "    else:\n",
    "        return 'Unassigned'"
   ]
  },
  {
   "cell_type": "code",
   "execution_count": 93,
   "metadata": {},
   "outputs": [],
   "source": [
    "# Run assign sector name function to create eA Characteristic column\n",
    "sector_melted['eA Characteristic'] = sector_melted['Label'].apply(assign_sector_name)"
   ]
  },
  {
   "cell_type": "code",
   "execution_count": 94,
   "metadata": {},
   "outputs": [
    {
     "data": {
      "text/plain": "['Materials',\n 'Information Technology',\n 'Energy',\n 'Industrials',\n 'Utilities',\n 'Health Care',\n 'Communication Services',\n 'Real Estate',\n 'Consumer Discretionary',\n 'Financials',\n 'Consumer Staples']"
     },
     "execution_count": 94,
     "metadata": {},
     "output_type": "execute_result"
    }
   ],
   "source": [
    "sector_values = sector_melted['Label'].value_counts().index.to_list()\n",
    "sector_values"
   ]
  },
  {
   "cell_type": "code",
   "execution_count": 95,
   "metadata": {},
   "outputs": [],
   "source": [
    "## Use 'Label' column to create 'Category' column, this is again, only for market cap\n",
    "\n",
    "def assign_sector_category(label):\n",
    "    if label in sector_values:\n",
    "        return 'Equity sector allocations'\n",
    "    else:\n",
    "        return 'Houston, we have a prob'"
   ]
  },
  {
   "cell_type": "code",
   "execution_count": 96,
   "metadata": {},
   "outputs": [],
   "source": [
    "sector_melted['Category'] = sector_melted['Label'].apply(assign_sector_category)"
   ]
  },
  {
   "cell_type": "code",
   "execution_count": 97,
   "metadata": {},
   "outputs": [],
   "source": [
    "## Rearrange order of cols\n",
    "sector_melted = sector_melted[['Date','Product', 'Category', 'Label', 'Value', 'eA Characteristic']]"
   ]
  },
  {
   "cell_type": "code",
   "execution_count": 98,
   "metadata": {},
   "outputs": [
    {
     "data": {
      "text/html": "<div>\n<style scoped>\n    .dataframe tbody tr th:only-of-type {\n        vertical-align: middle;\n    }\n\n    .dataframe tbody tr th {\n        vertical-align: top;\n    }\n\n    .dataframe thead th {\n        text-align: right;\n    }\n</style>\n<table border=\"1\" class=\"dataframe\">\n  <thead>\n    <tr style=\"text-align: right;\">\n      <th></th>\n      <th>Date</th>\n      <th>Product</th>\n      <th>Category</th>\n      <th>Label</th>\n      <th>Value</th>\n      <th>eA Characteristic</th>\n    </tr>\n  </thead>\n  <tbody>\n    <tr>\n      <th>0</th>\n      <td>3/31/2021</td>\n      <td>ABC</td>\n      <td>Equity sector allocations</td>\n      <td>Communication Services</td>\n      <td>5.73</td>\n      <td>Equity sector allocations-Communication Services</td>\n    </tr>\n    <tr>\n      <th>1</th>\n      <td>3/31/2021</td>\n      <td>ABC</td>\n      <td>Equity sector allocations</td>\n      <td>Consumer Discretionary</td>\n      <td>9.86</td>\n      <td>Equity sector allocations-Consumer Discretionary</td>\n    </tr>\n    <tr>\n      <th>2</th>\n      <td>3/31/2021</td>\n      <td>ABC</td>\n      <td>Equity sector allocations</td>\n      <td>Consumer Staples</td>\n      <td>12.449602</td>\n      <td>Equity sector allocations-Consumer Staples</td>\n    </tr>\n  </tbody>\n</table>\n</div>",
      "text/plain": "        Date Product                   Category                   Label  \\\n0  3/31/2021     ABC  Equity sector allocations  Communication Services   \n1  3/31/2021     ABC  Equity sector allocations  Consumer Discretionary   \n2  3/31/2021     ABC  Equity sector allocations        Consumer Staples   \n\n       Value                                 eA Characteristic  \n0       5.73  Equity sector allocations-Communication Services  \n1       9.86  Equity sector allocations-Consumer Discretionary  \n2  12.449602        Equity sector allocations-Consumer Staples  "
     },
     "execution_count": 98,
     "metadata": {},
     "output_type": "execute_result"
    }
   ],
   "source": [
    "## Run function to change eVestment Product name\n",
    "sector_melted['Product'] = sector_melted['Product'].apply(change_name)\n",
    "sector_melted.head(3)"
   ]
  },
  {
   "cell_type": "markdown",
   "metadata": {},
   "source": [
    "#### Step 5 - Import `cash` Tab"
   ]
  },
  {
   "cell_type": "code",
   "execution_count": 99,
   "metadata": {},
   "outputs": [],
   "source": [
    "cash_df = pd.read_excel('eA_template.xlsx', sheet_name = 'cash', skiprows=5, skipfooter =2) \n",
    "cash_headers = cash_df.iloc[0]\n",
    "cash_df = pd.DataFrame(cash_df.values[2:], columns=headers)\n",
    "cash_df.columns.values[0] = 'Label'"
   ]
  },
  {
   "cell_type": "code",
   "execution_count": 100,
   "metadata": {},
   "outputs": [],
   "source": [
    "# Replace  -- from import file with 0\n",
    "cash_df.replace('--', 0, inplace = True)"
   ]
  },
  {
   "cell_type": "markdown",
   "metadata": {},
   "source": [
    "#### Step 6 - Transform `cash` data into Seismic format"
   ]
  },
  {
   "cell_type": "code",
   "execution_count": 101,
   "metadata": {},
   "outputs": [],
   "source": [
    "## Create list of all products included in cash tab.  Will provide as variable below.  This is scalable, if add new products.\n",
    "cash_cols = list(cash_df.columns)\n",
    "cash_cols = cash_cols[1:]"
   ]
  },
  {
   "cell_type": "code",
   "execution_count": 102,
   "metadata": {},
   "outputs": [],
   "source": [
    "## Create formula to assign US to Domestic and others to Foreign\n",
    "def assign_dom_foreign(label):\n",
    "    if label == 'United States':\n",
    "        return 'Common Stock - Domestic'\n",
    "    if label == '[Cash]':\n",
    "        return 'Cash and Equivalents'\n",
    "    else:\n",
    "        return 'Common Stock - Foreign'"
   ]
  },
  {
   "cell_type": "code",
   "execution_count": 103,
   "metadata": {},
   "outputs": [],
   "source": [
    "cash_df['Label'] = cash_df['Label'].apply(assign_dom_foreign)"
   ]
  },
  {
   "cell_type": "code",
   "execution_count": 104,
   "metadata": {},
   "outputs": [],
   "source": [
    "cash_grouped = cash_df.groupby('Label')"
   ]
  },
  {
   "cell_type": "code",
   "execution_count": 105,
   "metadata": {},
   "outputs": [
    {
     "data": {
      "text/html": "<div>\n<style scoped>\n    .dataframe tbody tr th:only-of-type {\n        vertical-align: middle;\n    }\n\n    .dataframe tbody tr th {\n        vertical-align: top;\n    }\n\n    .dataframe thead th {\n        text-align: right;\n    }\n</style>\n<table border=\"1\" class=\"dataframe\">\n  <thead>\n    <tr style=\"text-align: right;\">\n      <th></th>\n      <th>Label</th>\n      <th>ABC</th>\n      <th>XYX</th>\n      <th>ZZZ</th>\n    </tr>\n  </thead>\n  <tbody>\n    <tr>\n      <th>0</th>\n      <td>Cash and Equivalents</td>\n      <td>0.336563</td>\n      <td>0.109899</td>\n      <td>1.8</td>\n    </tr>\n    <tr>\n      <th>1</th>\n      <td>Common Stock - Domestic</td>\n      <td>0.000000</td>\n      <td>69.020000</td>\n      <td>0.0</td>\n    </tr>\n    <tr>\n      <th>2</th>\n      <td>Common Stock - Foreign</td>\n      <td>99.659494</td>\n      <td>30.865698</td>\n      <td>98.2</td>\n    </tr>\n  </tbody>\n</table>\n</div>",
      "text/plain": "0                    Label        ABC        XYX   ZZZ\n0     Cash and Equivalents   0.336563   0.109899   1.8\n1  Common Stock - Domestic   0.000000  69.020000   0.0\n2   Common Stock - Foreign  99.659494  30.865698  98.2"
     },
     "execution_count": 105,
     "metadata": {},
     "output_type": "execute_result"
    }
   ],
   "source": [
    "cash_sums = cash_grouped.sum().reset_index()\n",
    "cash_sums.head(10)"
   ]
  },
  {
   "cell_type": "code",
   "execution_count": 106,
   "metadata": {},
   "outputs": [],
   "source": [
    "##  Repeat cash buckets and create Product Name column for each product\n",
    "cash_melted = pd.melt(cash_sums, id_vars=['Label'], value_vars = cash_cols, var_name = 'Product', value_name = 'Value')"
   ]
  },
  {
   "cell_type": "code",
   "execution_count": 107,
   "metadata": {},
   "outputs": [],
   "source": [
    "# Replace  -- from import file with 0\n",
    "cash_melted['Value'].replace('--', 0, inplace = True)"
   ]
  },
  {
   "cell_type": "code",
   "execution_count": 108,
   "metadata": {},
   "outputs": [],
   "source": [
    "## Removing Unassigned rows where 'Value' = 0\n",
    "cash_melted = cash_melted.drop(cash_melted[(cash_melted['Label'] == '[Unassigned]') & (cash_melted['Value'] == 0.0)].index)"
   ]
  },
  {
   "cell_type": "code",
   "execution_count": 109,
   "metadata": {},
   "outputs": [
    {
     "data": {
      "text/html": "<div>\n<style scoped>\n    .dataframe tbody tr th:only-of-type {\n        vertical-align: middle;\n    }\n\n    .dataframe tbody tr th {\n        vertical-align: top;\n    }\n\n    .dataframe thead th {\n        text-align: right;\n    }\n</style>\n<table border=\"1\" class=\"dataframe\">\n  <thead>\n    <tr style=\"text-align: right;\">\n      <th></th>\n      <th>Date</th>\n      <th>Label</th>\n      <th>Product</th>\n      <th>Value</th>\n    </tr>\n  </thead>\n  <tbody>\n    <tr>\n      <th>0</th>\n      <td>3/31/2021</td>\n      <td>Cash and Equivalents</td>\n      <td>ABC</td>\n      <td>0.336563</td>\n    </tr>\n    <tr>\n      <th>1</th>\n      <td>3/31/2021</td>\n      <td>Common Stock - Domestic</td>\n      <td>ABC</td>\n      <td>0.000000</td>\n    </tr>\n    <tr>\n      <th>2</th>\n      <td>3/31/2021</td>\n      <td>Common Stock - Foreign</td>\n      <td>ABC</td>\n      <td>99.659494</td>\n    </tr>\n  </tbody>\n</table>\n</div>",
      "text/plain": "        Date                    Label Product      Value\n0  3/31/2021     Cash and Equivalents     ABC   0.336563\n1  3/31/2021  Common Stock - Domestic     ABC   0.000000\n2  3/31/2021   Common Stock - Foreign     ABC  99.659494"
     },
     "execution_count": 109,
     "metadata": {},
     "output_type": "execute_result"
    }
   ],
   "source": [
    "## Add Date Column\n",
    "cash_melted.insert(0, 'Date', report_date)\n",
    "cash_melted.head(3)"
   ]
  },
  {
   "cell_type": "code",
   "execution_count": 110,
   "metadata": {},
   "outputs": [],
   "source": [
    "## Use 'Label' column to create 'eA Characteristic' column\n",
    "\n",
    "def assign_cash_name(label):\n",
    "    if label == 'Common Stock - Domestic':\n",
    "        return 'Asset Allocation-Common Stock - Domestic'\n",
    "    elif label == 'Cash and Equivalents':\n",
    "        return 'Asset Allocation-Cash and Equivalents'\n",
    "    elif label == 'Common Stock - Foreign':\n",
    "        return 'Asset Allocation-Common Stock - Foreign'    "
   ]
  },
  {
   "cell_type": "code",
   "execution_count": 111,
   "metadata": {},
   "outputs": [
    {
     "data": {
      "text/html": "<div>\n<style scoped>\n    .dataframe tbody tr th:only-of-type {\n        vertical-align: middle;\n    }\n\n    .dataframe tbody tr th {\n        vertical-align: top;\n    }\n\n    .dataframe thead th {\n        text-align: right;\n    }\n</style>\n<table border=\"1\" class=\"dataframe\">\n  <thead>\n    <tr style=\"text-align: right;\">\n      <th></th>\n      <th>Date</th>\n      <th>Label</th>\n      <th>Product</th>\n      <th>Value</th>\n      <th>eA Characteristic</th>\n    </tr>\n  </thead>\n  <tbody>\n    <tr>\n      <th>0</th>\n      <td>3/31/2021</td>\n      <td>Cash and Equivalents</td>\n      <td>ABC</td>\n      <td>0.336563</td>\n      <td>Asset Allocation-Cash and Equivalents</td>\n    </tr>\n    <tr>\n      <th>1</th>\n      <td>3/31/2021</td>\n      <td>Common Stock - Domestic</td>\n      <td>ABC</td>\n      <td>0.000000</td>\n      <td>Asset Allocation-Common Stock - Domestic</td>\n    </tr>\n    <tr>\n      <th>2</th>\n      <td>3/31/2021</td>\n      <td>Common Stock - Foreign</td>\n      <td>ABC</td>\n      <td>99.659494</td>\n      <td>Asset Allocation-Common Stock - Foreign</td>\n    </tr>\n    <tr>\n      <th>3</th>\n      <td>3/31/2021</td>\n      <td>Cash and Equivalents</td>\n      <td>XYX</td>\n      <td>0.109899</td>\n      <td>Asset Allocation-Cash and Equivalents</td>\n    </tr>\n    <tr>\n      <th>4</th>\n      <td>3/31/2021</td>\n      <td>Common Stock - Domestic</td>\n      <td>XYX</td>\n      <td>69.020000</td>\n      <td>Asset Allocation-Common Stock - Domestic</td>\n    </tr>\n  </tbody>\n</table>\n</div>",
      "text/plain": "        Date                    Label Product      Value  \\\n0  3/31/2021     Cash and Equivalents     ABC   0.336563   \n1  3/31/2021  Common Stock - Domestic     ABC   0.000000   \n2  3/31/2021   Common Stock - Foreign     ABC  99.659494   \n3  3/31/2021     Cash and Equivalents     XYX   0.109899   \n4  3/31/2021  Common Stock - Domestic     XYX  69.020000   \n\n                          eA Characteristic  \n0     Asset Allocation-Cash and Equivalents  \n1  Asset Allocation-Common Stock - Domestic  \n2   Asset Allocation-Common Stock - Foreign  \n3     Asset Allocation-Cash and Equivalents  \n4  Asset Allocation-Common Stock - Domestic  "
     },
     "execution_count": 111,
     "metadata": {},
     "output_type": "execute_result"
    }
   ],
   "source": [
    "cash_melted['eA Characteristic'] = cash_melted['Label'].apply(assign_cash_name)\n",
    "cash_melted.head(5)"
   ]
  },
  {
   "cell_type": "code",
   "execution_count": 112,
   "metadata": {},
   "outputs": [
    {
     "data": {
      "text/plain": "['Cash and Equivalents', 'Common Stock - Domestic', 'Common Stock - Foreign']"
     },
     "execution_count": 112,
     "metadata": {},
     "output_type": "execute_result"
    }
   ],
   "source": [
    "cash_values = cash_melted['Label'].value_counts().index.to_list()\n",
    "cash_values"
   ]
  },
  {
   "cell_type": "code",
   "execution_count": 113,
   "metadata": {},
   "outputs": [],
   "source": [
    "## Use 'Label' column to create 'Category' column, this is again, only for market cap\n",
    "\n",
    "def assign_cash_category(label):\n",
    "    if label in cash_values:\n",
    "        return 'Asset Allocation'\n",
    "    else:\n",
    "        return 'Houston, we have a prob'"
   ]
  },
  {
   "cell_type": "code",
   "execution_count": 114,
   "metadata": {},
   "outputs": [],
   "source": [
    "# Run the eVestment Product name change function\n",
    "cash_melted['Category'] = cash_melted['Label'].apply(assign_cash_category)"
   ]
  },
  {
   "cell_type": "code",
   "execution_count": 115,
   "metadata": {},
   "outputs": [],
   "source": [
    "# Run function to change eVestment Product name\n",
    "cash_melted['Product'] = cash_melted['Product'].apply(change_name)"
   ]
  },
  {
   "cell_type": "code",
   "execution_count": 116,
   "metadata": {},
   "outputs": [
    {
     "data": {
      "text/html": "<div>\n<style scoped>\n    .dataframe tbody tr th:only-of-type {\n        vertical-align: middle;\n    }\n\n    .dataframe tbody tr th {\n        vertical-align: top;\n    }\n\n    .dataframe thead th {\n        text-align: right;\n    }\n</style>\n<table border=\"1\" class=\"dataframe\">\n  <thead>\n    <tr style=\"text-align: right;\">\n      <th></th>\n      <th>Date</th>\n      <th>Product</th>\n      <th>Category</th>\n      <th>Label</th>\n      <th>Value</th>\n      <th>eA Characteristic</th>\n    </tr>\n  </thead>\n  <tbody>\n    <tr>\n      <th>0</th>\n      <td>3/31/2021</td>\n      <td>ABC</td>\n      <td>Asset Allocation</td>\n      <td>Cash and Equivalents</td>\n      <td>0.336563</td>\n      <td>Asset Allocation-Cash and Equivalents</td>\n    </tr>\n    <tr>\n      <th>1</th>\n      <td>3/31/2021</td>\n      <td>ABC</td>\n      <td>Asset Allocation</td>\n      <td>Common Stock - Domestic</td>\n      <td>0.000000</td>\n      <td>Asset Allocation-Common Stock - Domestic</td>\n    </tr>\n    <tr>\n      <th>2</th>\n      <td>3/31/2021</td>\n      <td>ABC</td>\n      <td>Asset Allocation</td>\n      <td>Common Stock - Foreign</td>\n      <td>99.659494</td>\n      <td>Asset Allocation-Common Stock - Foreign</td>\n    </tr>\n    <tr>\n      <th>3</th>\n      <td>3/31/2021</td>\n      <td>XYX</td>\n      <td>Asset Allocation</td>\n      <td>Cash and Equivalents</td>\n      <td>0.109899</td>\n      <td>Asset Allocation-Cash and Equivalents</td>\n    </tr>\n    <tr>\n      <th>4</th>\n      <td>3/31/2021</td>\n      <td>XYX</td>\n      <td>Asset Allocation</td>\n      <td>Common Stock - Domestic</td>\n      <td>69.020000</td>\n      <td>Asset Allocation-Common Stock - Domestic</td>\n    </tr>\n    <tr>\n      <th>5</th>\n      <td>3/31/2021</td>\n      <td>XYX</td>\n      <td>Asset Allocation</td>\n      <td>Common Stock - Foreign</td>\n      <td>30.865698</td>\n      <td>Asset Allocation-Common Stock - Foreign</td>\n    </tr>\n    <tr>\n      <th>6</th>\n      <td>3/31/2021</td>\n      <td>ZZZ</td>\n      <td>Asset Allocation</td>\n      <td>Cash and Equivalents</td>\n      <td>1.800000</td>\n      <td>Asset Allocation-Cash and Equivalents</td>\n    </tr>\n    <tr>\n      <th>7</th>\n      <td>3/31/2021</td>\n      <td>ZZZ</td>\n      <td>Asset Allocation</td>\n      <td>Common Stock - Domestic</td>\n      <td>0.000000</td>\n      <td>Asset Allocation-Common Stock - Domestic</td>\n    </tr>\n    <tr>\n      <th>8</th>\n      <td>3/31/2021</td>\n      <td>ZZZ</td>\n      <td>Asset Allocation</td>\n      <td>Common Stock - Foreign</td>\n      <td>98.200000</td>\n      <td>Asset Allocation-Common Stock - Foreign</td>\n    </tr>\n  </tbody>\n</table>\n</div>",
      "text/plain": "        Date Product          Category                    Label      Value  \\\n0  3/31/2021     ABC  Asset Allocation     Cash and Equivalents   0.336563   \n1  3/31/2021     ABC  Asset Allocation  Common Stock - Domestic   0.000000   \n2  3/31/2021     ABC  Asset Allocation   Common Stock - Foreign  99.659494   \n3  3/31/2021     XYX  Asset Allocation     Cash and Equivalents   0.109899   \n4  3/31/2021     XYX  Asset Allocation  Common Stock - Domestic  69.020000   \n5  3/31/2021     XYX  Asset Allocation   Common Stock - Foreign  30.865698   \n6  3/31/2021     ZZZ  Asset Allocation     Cash and Equivalents   1.800000   \n7  3/31/2021     ZZZ  Asset Allocation  Common Stock - Domestic   0.000000   \n8  3/31/2021     ZZZ  Asset Allocation   Common Stock - Foreign  98.200000   \n\n                          eA Characteristic  \n0     Asset Allocation-Cash and Equivalents  \n1  Asset Allocation-Common Stock - Domestic  \n2   Asset Allocation-Common Stock - Foreign  \n3     Asset Allocation-Cash and Equivalents  \n4  Asset Allocation-Common Stock - Domestic  \n5   Asset Allocation-Common Stock - Foreign  \n6     Asset Allocation-Cash and Equivalents  \n7  Asset Allocation-Common Stock - Domestic  \n8   Asset Allocation-Common Stock - Foreign  "
     },
     "execution_count": 116,
     "metadata": {},
     "output_type": "execute_result"
    }
   ],
   "source": [
    "## Rearrange order of cols\n",
    "cash_melted = cash_melted[['Date','Product', 'Category', 'Label', 'Value', 'eA Characteristic']]\n",
    "cash_melted.head(12)"
   ]
  },
  {
   "cell_type": "markdown",
   "metadata": {},
   "source": [
    "#### Step 7 Import `chars` Tab"
   ]
  },
  {
   "cell_type": "code",
   "execution_count": 117,
   "metadata": {
    "scrolled": true
   },
   "outputs": [
    {
     "data": {
      "text/html": "<div>\n<style scoped>\n    .dataframe tbody tr th:only-of-type {\n        vertical-align: middle;\n    }\n\n    .dataframe tbody tr th {\n        vertical-align: top;\n    }\n\n    .dataframe thead th {\n        text-align: right;\n    }\n</style>\n<table border=\"1\" class=\"dataframe\">\n  <thead>\n    <tr style=\"text-align: right;\">\n      <th></th>\n      <th>Label</th>\n      <th>ABC</th>\n      <th>XYX</th>\n      <th>ZZZ</th>\n    </tr>\n  </thead>\n  <tbody>\n    <tr>\n      <th>0</th>\n      <td>Total Number of Stocks</td>\n      <td>422</td>\n      <td>159</td>\n      <td>640</td>\n    </tr>\n    <tr>\n      <th>1</th>\n      <td>Price/Earnings Ratio (1 Year Trailing)</td>\n      <td>34.44</td>\n      <td>25.22</td>\n      <td>28.85</td>\n    </tr>\n    <tr>\n      <th>2</th>\n      <td>P/E Ratio (1Yr Forward)</td>\n      <td>24.35</td>\n      <td>24.48</td>\n      <td>26.58</td>\n    </tr>\n    <tr>\n      <th>3</th>\n      <td>Dividend Yield</td>\n      <td>2.575805</td>\n      <td>2.339417</td>\n      <td>1.863503</td>\n    </tr>\n    <tr>\n      <th>4</th>\n      <td>Dividend Growth 1yr</td>\n      <td>-15.031019</td>\n      <td>0.936817</td>\n      <td>0.816302</td>\n    </tr>\n    <tr>\n      <th>5</th>\n      <td>Growth Rate (5 Year Trailing)</td>\n      <td>4.505492</td>\n      <td>12.52202</td>\n      <td>6.028457</td>\n    </tr>\n    <tr>\n      <th>6</th>\n      <td>Growth Rate (1 Year Forward)</td>\n      <td>23.023137</td>\n      <td>24.309815</td>\n      <td>5.948094</td>\n    </tr>\n    <tr>\n      <th>7</th>\n      <td>Growth Rate (3 - 5 Year Forward)</td>\n      <td>10.874606</td>\n      <td>12.692258</td>\n      <td>12.071347</td>\n    </tr>\n    <tr>\n      <th>8</th>\n      <td>ROA</td>\n      <td>4.392247</td>\n      <td>8.984804</td>\n      <td>4.394433</td>\n    </tr>\n    <tr>\n      <th>9</th>\n      <td>ROE</td>\n      <td>11.689371</td>\n      <td>19.359811</td>\n      <td>8.448504</td>\n    </tr>\n    <tr>\n      <th>10</th>\n      <td>ROE 5yr Avg</td>\n      <td>14.364479</td>\n      <td>22.7895</td>\n      <td>11.181159</td>\n    </tr>\n    <tr>\n      <th>11</th>\n      <td>Price/Book Ratio</td>\n      <td>4.22129</td>\n      <td>7.044861</td>\n      <td>2.633204</td>\n    </tr>\n    <tr>\n      <th>12</th>\n      <td>Price/Cash Flow</td>\n      <td>19.379828</td>\n      <td>18.018349</td>\n      <td>8.774569</td>\n    </tr>\n    <tr>\n      <th>13</th>\n      <td>Price to Cash Flow 5yr Avg</td>\n      <td>15.411405</td>\n      <td>15.479942</td>\n      <td>13.435467</td>\n    </tr>\n    <tr>\n      <th>14</th>\n      <td>Price/Sales</td>\n      <td>3.087674</td>\n      <td>4.917049</td>\n      <td>3.768427</td>\n    </tr>\n    <tr>\n      <th>15</th>\n      <td>Total Debt/Total Equity</td>\n      <td>105.77544</td>\n      <td>118.444099</td>\n      <td>71.910238</td>\n    </tr>\n    <tr>\n      <th>16</th>\n      <td>Weighted Average Market Cap ($ millions)</td>\n      <td>87106.539062</td>\n      <td>770522.75</td>\n      <td>47921.023438</td>\n    </tr>\n    <tr>\n      <th>17</th>\n      <td>Median Market Cap</td>\n      <td>21589.34375</td>\n      <td>105112.375</td>\n      <td>8633.395508</td>\n    </tr>\n    <tr>\n      <th>18</th>\n      <td>Weighted Median Market Cap ($ millions)</td>\n      <td>55269.320312</td>\n      <td>315242.09375</td>\n      <td>29242.367188</td>\n    </tr>\n  </tbody>\n</table>\n</div>",
      "text/plain": "0                                      Label           ABC           XYX  \\\n0                     Total Number of Stocks           422           159   \n1     Price/Earnings Ratio (1 Year Trailing)         34.44         25.22   \n2                    P/E Ratio (1Yr Forward)         24.35         24.48   \n3                             Dividend Yield      2.575805      2.339417   \n4                        Dividend Growth 1yr    -15.031019      0.936817   \n5              Growth Rate (5 Year Trailing)      4.505492      12.52202   \n6               Growth Rate (1 Year Forward)     23.023137     24.309815   \n7           Growth Rate (3 - 5 Year Forward)     10.874606     12.692258   \n8                                        ROA      4.392247      8.984804   \n9                                        ROE     11.689371     19.359811   \n10                               ROE 5yr Avg     14.364479       22.7895   \n11                          Price/Book Ratio       4.22129      7.044861   \n12                           Price/Cash Flow     19.379828     18.018349   \n13                Price to Cash Flow 5yr Avg     15.411405     15.479942   \n14                               Price/Sales      3.087674      4.917049   \n15                   Total Debt/Total Equity     105.77544    118.444099   \n16  Weighted Average Market Cap ($ millions)  87106.539062     770522.75   \n17                         Median Market Cap   21589.34375    105112.375   \n18   Weighted Median Market Cap ($ millions)  55269.320312  315242.09375   \n\n0            ZZZ  \n0            640  \n1          28.85  \n2          26.58  \n3       1.863503  \n4       0.816302  \n5       6.028457  \n6       5.948094  \n7      12.071347  \n8       4.394433  \n9       8.448504  \n10     11.181159  \n11      2.633204  \n12      8.774569  \n13     13.435467  \n14      3.768427  \n15     71.910238  \n16  47921.023438  \n17   8633.395508  \n18  29242.367188  "
     },
     "execution_count": 117,
     "metadata": {},
     "output_type": "execute_result"
    }
   ],
   "source": [
    "chars_df = pd.read_excel('eA_template.xlsx', sheet_name = 'chars', skiprows=5) \n",
    "chars_headers = chars_df.iloc[0]\n",
    "chars_df = pd.DataFrame(chars_df.values[2:], columns = chars_headers)\n",
    "chars_df.columns.values[0] = 'Label'\n",
    "chars_df"
   ]
  },
  {
   "cell_type": "markdown",
   "metadata": {},
   "source": [
    "#### Step 8 - Transform `chars` data into Seismic format"
   ]
  },
  {
   "cell_type": "code",
   "execution_count": 118,
   "metadata": {},
   "outputs": [],
   "source": [
    "## Create list of all products included in sector tab.  Will provide as variable below.  This is scalable, if add new products.\n",
    "chars_cols = list(chars_df.columns)\n",
    "chars_cols = chars_cols[1:]"
   ]
  },
  {
   "cell_type": "code",
   "execution_count": 119,
   "metadata": {},
   "outputs": [],
   "source": [
    "##  Repeat Sector buckets and create Product Name column for each product\n",
    "chars_melted = pd.melt(chars_df, id_vars=['Label'], value_vars = chars_cols, var_name = 'Product', value_name = 'Value')"
   ]
  },
  {
   "cell_type": "code",
   "execution_count": 120,
   "metadata": {},
   "outputs": [],
   "source": [
    "## Add Date Column\n",
    "chars_melted.insert(0, 'Date', report_date)"
   ]
  },
  {
   "cell_type": "code",
   "execution_count": 121,
   "metadata": {},
   "outputs": [],
   "source": [
    "## Create function to leverage sector names from 'Label' column to create relevant 'eA Characteristic' column\n",
    "\n",
    "def assign_chars_name(label):\n",
    "    if label == 'Total Number of Stocks':\n",
    "        return 'Equity characteristics-Total Number of Stocks'\n",
    "    elif label == 'Price/Earnings Ratio (1 Year Trailing)':\n",
    "        return 'Equity characteristics-Price/Earnings Ratio (1 Year Trailing)'\n",
    "    elif label == 'P/E Ratio (1Yr Forward)':\n",
    "        return 'Equity characteristics-P/E Ratio (1Yr Forward)'\n",
    "    elif label == 'Dividend Yield':\n",
    "        return 'Equity characteristics-Dividend Yield'\n",
    "    elif label == 'Dividend Growth 1yr':\n",
    "        return 'Equity characteristics-Dividend Growth 1yr'\n",
    "    elif label == 'Growth Rate (5 Year Trailing)':\n",
    "        return 'Equity characteristics-Growth Rate (5 Year Trailing)'\n",
    "    elif label == 'Growth Rate (1 Year Forward)':\n",
    "        return 'Equity characteristics-Growth Rate (1 Year Forward)'\n",
    "    elif label == 'Growth Rate (3 - 5 Year Forward)':\n",
    "        return 'Equity characteristics-Growth Rate (3 - 5 Year Forward)'\n",
    "    elif label == 'ROA':\n",
    "        return 'Equity characteristics-ROA'\n",
    "    elif label == 'ROE':\n",
    "        return 'Equity characteristics-ROE'\n",
    "    elif label == 'ROE 5yr Avg':\n",
    "        return 'Equity characteristics-ROE 5yr Avg'\n",
    "    elif label == 'Price/Book Ratio':\n",
    "        return 'Equity characteristics-Price/Book Ratio' \n",
    "    elif label == 'Price/Cash Flow':\n",
    "        return 'Equity characteristics-Price/Cash Flow' \n",
    "    elif label == 'Price to Cash Flow 5yr Avg':\n",
    "        return 'Equity characteristics-Price to Cash Flow 5yr Avg' \n",
    "    elif label == 'Price/Sales':\n",
    "        return 'Equity characteristics-Price Sales' \n",
    "    elif label == 'Total Debt/Total Equity':\n",
    "        return 'Equity characteristics-Total Debt/Total Equity' \n",
    "    elif label == 'Weighted Average Market Cap ($ millions)':\n",
    "        return 'Equity characteristics-Weighted Average Market Cap ($ millions)' \n",
    "    elif label == 'Median Market Cap':\n",
    "        return 'Equity characteristics-Median Market Cap' \n",
    "    elif label == 'Weighted Median Market Cap ($ millions)':\n",
    "        return 'Equity characteristics-Weighted Median Market Cap ($ millions)' \n",
    "    elif label == 'Total Number of Stocks':\n",
    "        return 'Equity characteristics-Total Number of Stocks' \n",
    "    else:\n",
    "        return 'Unassigned'"
   ]
  },
  {
   "cell_type": "code",
   "execution_count": 122,
   "metadata": {},
   "outputs": [],
   "source": [
    "chars_melted['eA Characteristic'] = chars_melted['Label'].apply(assign_chars_name)"
   ]
  },
  {
   "cell_type": "code",
   "execution_count": 123,
   "metadata": {},
   "outputs": [],
   "source": [
    "chars_values = chars_melted['Label'].value_counts().index.to_list()"
   ]
  },
  {
   "cell_type": "code",
   "execution_count": 124,
   "metadata": {},
   "outputs": [],
   "source": [
    "## Use 'Label' column to create 'Category' column, this is again, only for market cap\n",
    "\n",
    "def assign_chars_category(label):\n",
    "    if label in chars_values:\n",
    "        return 'Equity characteristics'\n",
    "    else:\n",
    "        return 'Houston, we have a prob'"
   ]
  },
  {
   "cell_type": "code",
   "execution_count": 125,
   "metadata": {},
   "outputs": [],
   "source": [
    "chars_melted['Category'] = chars_melted['Label'].apply(assign_chars_category)"
   ]
  },
  {
   "cell_type": "code",
   "execution_count": 126,
   "metadata": {},
   "outputs": [],
   "source": [
    "## Rearrange order of cols\n",
    "chars_melted = chars_melted[['Date','Product', 'Category', 'Label', 'Value', 'eA Characteristic']]"
   ]
  },
  {
   "cell_type": "code",
   "execution_count": 127,
   "metadata": {},
   "outputs": [
    {
     "data": {
      "text/html": "<div>\n<style scoped>\n    .dataframe tbody tr th:only-of-type {\n        vertical-align: middle;\n    }\n\n    .dataframe tbody tr th {\n        vertical-align: top;\n    }\n\n    .dataframe thead th {\n        text-align: right;\n    }\n</style>\n<table border=\"1\" class=\"dataframe\">\n  <thead>\n    <tr style=\"text-align: right;\">\n      <th></th>\n      <th>Date</th>\n      <th>Product</th>\n      <th>Category</th>\n      <th>Label</th>\n      <th>Value</th>\n      <th>eA Characteristic</th>\n    </tr>\n  </thead>\n  <tbody>\n    <tr>\n      <th>0</th>\n      <td>3/31/2021</td>\n      <td>ABC</td>\n      <td>Equity characteristics</td>\n      <td>Total Number of Stocks</td>\n      <td>422</td>\n      <td>Equity characteristics-Total Number of Stocks</td>\n    </tr>\n    <tr>\n      <th>1</th>\n      <td>3/31/2021</td>\n      <td>ABC</td>\n      <td>Equity characteristics</td>\n      <td>Price/Earnings Ratio (1 Year Trailing)</td>\n      <td>34.44</td>\n      <td>Equity characteristics-Price/Earnings Ratio (1...</td>\n    </tr>\n    <tr>\n      <th>2</th>\n      <td>3/31/2021</td>\n      <td>ABC</td>\n      <td>Equity characteristics</td>\n      <td>P/E Ratio (1Yr Forward)</td>\n      <td>24.35</td>\n      <td>Equity characteristics-P/E Ratio (1Yr Forward)</td>\n    </tr>\n  </tbody>\n</table>\n</div>",
      "text/plain": "        Date Product                Category  \\\n0  3/31/2021     ABC  Equity characteristics   \n1  3/31/2021     ABC  Equity characteristics   \n2  3/31/2021     ABC  Equity characteristics   \n\n                                    Label  Value  \\\n0                  Total Number of Stocks    422   \n1  Price/Earnings Ratio (1 Year Trailing)  34.44   \n2                 P/E Ratio (1Yr Forward)  24.35   \n\n                                   eA Characteristic  \n0      Equity characteristics-Total Number of Stocks  \n1  Equity characteristics-Price/Earnings Ratio (1...  \n2     Equity characteristics-P/E Ratio (1Yr Forward)  "
     },
     "execution_count": 127,
     "metadata": {},
     "output_type": "execute_result"
    }
   ],
   "source": [
    "## Run function to change eVestment Product name\n",
    "chars_melted['Product'] = chars_melted['Product'].apply(change_name)\n",
    "chars_melted.head(3)"
   ]
  },
  {
   "cell_type": "markdown",
   "metadata": {},
   "source": [
    "#### Step 9 - Import `country` Tab"
   ]
  },
  {
   "cell_type": "code",
   "execution_count": 128,
   "metadata": {},
   "outputs": [],
   "source": [
    "country_df = pd.read_excel('eA_template.xlsx', sheet_name = 'country', skiprows=5, skipfooter =2) \n",
    "country_headers = country_df.iloc[0]\n",
    "country_df = pd.DataFrame(country_df.values[2:], columns = country_headers)\n",
    "country_df.columns.values[0] = 'Country'"
   ]
  },
  {
   "cell_type": "markdown",
   "metadata": {},
   "source": [
    "#### Step 10 - Transform `country` data into Seismic format"
   ]
  },
  {
   "cell_type": "code",
   "execution_count": 129,
   "metadata": {},
   "outputs": [
    {
     "data": {
      "text/plain": "['ABC', 'XYX', 'ZZZ']"
     },
     "execution_count": 129,
     "metadata": {},
     "output_type": "execute_result"
    }
   ],
   "source": [
    "# Create list of all products included in sector tab.  Will provide as variable below.  This is scalable, if add new products.\n",
    "country_cols = list(country_df.columns)\n",
    "# Excludes Label and MSCI ACWI from list\n",
    "country_cols = country_cols[1:]\n",
    "country_cols"
   ]
  },
  {
   "cell_type": "code",
   "execution_count": 130,
   "metadata": {},
   "outputs": [],
   "source": [
    "#  Repeat Sector buckets and create Product Name column for each product\n",
    "country_melted = pd.melt(country_df, id_vars=['Country'], value_vars = country_cols, var_name = 'Product', value_name = 'Value')"
   ]
  },
  {
   "cell_type": "code",
   "execution_count": 131,
   "metadata": {},
   "outputs": [],
   "source": [
    "# Replace  -- from import file with 0\n",
    "country_melted['Value'].replace('--', 0, inplace = True)"
   ]
  },
  {
   "cell_type": "code",
   "execution_count": 132,
   "metadata": {},
   "outputs": [],
   "source": [
    "## Add Date Column\n",
    "country_melted.insert(0, 'Date', report_date)"
   ]
  },
  {
   "cell_type": "code",
   "execution_count": 133,
   "metadata": {},
   "outputs": [],
   "source": [
    "## Run function to change eVestment Product name\n",
    "country_melted['Product'] = country_melted['Product'].apply(change_name)"
   ]
  },
  {
   "cell_type": "code",
   "execution_count": 134,
   "metadata": {},
   "outputs": [],
   "source": [
    "## Rearrange order of cols\n",
    "country_melted = country_melted[['Date','Product', 'Country', 'Value']]"
   ]
  },
  {
   "cell_type": "code",
   "execution_count": 135,
   "metadata": {},
   "outputs": [
    {
     "data": {
      "text/html": "<div>\n<style scoped>\n    .dataframe tbody tr th:only-of-type {\n        vertical-align: middle;\n    }\n\n    .dataframe tbody tr th {\n        vertical-align: top;\n    }\n\n    .dataframe thead th {\n        text-align: right;\n    }\n</style>\n<table border=\"1\" class=\"dataframe\">\n  <thead>\n    <tr style=\"text-align: right;\">\n      <th></th>\n      <th>Value</th>\n    </tr>\n    <tr>\n      <th>Product</th>\n      <th></th>\n    </tr>\n  </thead>\n  <tbody>\n    <tr>\n      <th>ABC</th>\n      <td>100.0</td>\n    </tr>\n    <tr>\n      <th>XYX</th>\n      <td>100.0</td>\n    </tr>\n    <tr>\n      <th>ZZZ</th>\n      <td>100.0</td>\n    </tr>\n  </tbody>\n</table>\n</div>",
      "text/plain": "         Value\nProduct       \nABC      100.0\nXYX      100.0\nZZZ      100.0"
     },
     "execution_count": 135,
     "metadata": {},
     "output_type": "execute_result"
    }
   ],
   "source": [
    "country_melted.pivot_table(index = 'Product', values = 'Value', aggfunc = sum)"
   ]
  },
  {
   "cell_type": "markdown",
   "metadata": {},
   "source": [
    "#### Step 11 - Create final dataframe named `final_df`"
   ]
  },
  {
   "cell_type": "code",
   "execution_count": 136,
   "metadata": {},
   "outputs": [],
   "source": [
    "final_df = pd.concat([mc_melted, sector_melted, cash_melted, chars_melted])"
   ]
  },
  {
   "cell_type": "code",
   "execution_count": 137,
   "metadata": {},
   "outputs": [
    {
     "data": {
      "text/html": "<div>\n<style scoped>\n    .dataframe tbody tr th:only-of-type {\n        vertical-align: middle;\n    }\n\n    .dataframe tbody tr th {\n        vertical-align: top;\n    }\n\n    .dataframe thead th {\n        text-align: right;\n    }\n</style>\n<table border=\"1\" class=\"dataframe\">\n  <thead>\n    <tr style=\"text-align: right;\">\n      <th></th>\n      <th>Date</th>\n      <th>Product</th>\n      <th>Category</th>\n      <th>Label</th>\n      <th>Value</th>\n      <th>eA Characteristic</th>\n    </tr>\n  </thead>\n  <tbody>\n    <tr>\n      <th>0</th>\n      <td>3/31/2021</td>\n      <td>ABC</td>\n      <td>Capitalization Ranges</td>\n      <td>&gt; $50 Billion</td>\n      <td>43.9</td>\n      <td>Capitalization Ranges-&gt; $50 Billion</td>\n    </tr>\n    <tr>\n      <th>1</th>\n      <td>3/31/2021</td>\n      <td>ABC</td>\n      <td>Capitalization Ranges</td>\n      <td>$25-50 Billion</td>\n      <td>32.46</td>\n      <td>Capitalization Ranges-$25-50 Billion</td>\n    </tr>\n    <tr>\n      <th>2</th>\n      <td>3/31/2021</td>\n      <td>ABC</td>\n      <td>Capitalization Ranges</td>\n      <td>$15-25 Billion</td>\n      <td>11.972483</td>\n      <td>Capitalization Ranges-$15-25 Billion</td>\n    </tr>\n    <tr>\n      <th>3</th>\n      <td>3/31/2021</td>\n      <td>ABC</td>\n      <td>Capitalization Ranges</td>\n      <td>$10-15 Billion</td>\n      <td>7.205876</td>\n      <td>Capitalization Ranges-$10-15 Billion</td>\n    </tr>\n    <tr>\n      <th>4</th>\n      <td>3/31/2021</td>\n      <td>ABC</td>\n      <td>Capitalization Ranges</td>\n      <td>$7.5-10 Billion</td>\n      <td>3.131328</td>\n      <td>Capitalization Ranges-$7.5-10 Billion</td>\n    </tr>\n    <tr>\n      <th>...</th>\n      <td>...</td>\n      <td>...</td>\n      <td>...</td>\n      <td>...</td>\n      <td>...</td>\n      <td>...</td>\n    </tr>\n    <tr>\n      <th>52</th>\n      <td>3/31/2021</td>\n      <td>ZZZ</td>\n      <td>Equity characteristics</td>\n      <td>Price/Sales</td>\n      <td>3.768427</td>\n      <td>Equity characteristics-Price Sales</td>\n    </tr>\n    <tr>\n      <th>53</th>\n      <td>3/31/2021</td>\n      <td>ZZZ</td>\n      <td>Equity characteristics</td>\n      <td>Total Debt/Total Equity</td>\n      <td>71.910238</td>\n      <td>Equity characteristics-Total Debt/Total Equity</td>\n    </tr>\n    <tr>\n      <th>54</th>\n      <td>3/31/2021</td>\n      <td>ZZZ</td>\n      <td>Equity characteristics</td>\n      <td>Weighted Average Market Cap ($ millions)</td>\n      <td>47921.023438</td>\n      <td>Equity characteristics-Weighted Average Market...</td>\n    </tr>\n    <tr>\n      <th>55</th>\n      <td>3/31/2021</td>\n      <td>ZZZ</td>\n      <td>Equity characteristics</td>\n      <td>Median Market Cap</td>\n      <td>8633.395508</td>\n      <td>Equity characteristics-Median Market Cap</td>\n    </tr>\n    <tr>\n      <th>56</th>\n      <td>3/31/2021</td>\n      <td>ZZZ</td>\n      <td>Equity characteristics</td>\n      <td>Weighted Median Market Cap ($ millions)</td>\n      <td>29242.367188</td>\n      <td>Equity characteristics-Weighted Median Market ...</td>\n    </tr>\n  </tbody>\n</table>\n<p>141 rows × 6 columns</p>\n</div>",
      "text/plain": "         Date Product                Category  \\\n0   3/31/2021     ABC   Capitalization Ranges   \n1   3/31/2021     ABC   Capitalization Ranges   \n2   3/31/2021     ABC   Capitalization Ranges   \n3   3/31/2021     ABC   Capitalization Ranges   \n4   3/31/2021     ABC   Capitalization Ranges   \n..        ...     ...                     ...   \n52  3/31/2021     ZZZ  Equity characteristics   \n53  3/31/2021     ZZZ  Equity characteristics   \n54  3/31/2021     ZZZ  Equity characteristics   \n55  3/31/2021     ZZZ  Equity characteristics   \n56  3/31/2021     ZZZ  Equity characteristics   \n\n                                       Label         Value  \\\n0                              > $50 Billion          43.9   \n1                             $25-50 Billion         32.46   \n2                             $15-25 Billion     11.972483   \n3                             $10-15 Billion      7.205876   \n4                            $7.5-10 Billion      3.131328   \n..                                       ...           ...   \n52                               Price/Sales      3.768427   \n53                   Total Debt/Total Equity     71.910238   \n54  Weighted Average Market Cap ($ millions)  47921.023438   \n55                         Median Market Cap   8633.395508   \n56   Weighted Median Market Cap ($ millions)  29242.367188   \n\n                                    eA Characteristic  \n0                 Capitalization Ranges-> $50 Billion  \n1                Capitalization Ranges-$25-50 Billion  \n2                Capitalization Ranges-$15-25 Billion  \n3                Capitalization Ranges-$10-15 Billion  \n4               Capitalization Ranges-$7.5-10 Billion  \n..                                                ...  \n52                 Equity characteristics-Price Sales  \n53     Equity characteristics-Total Debt/Total Equity  \n54  Equity characteristics-Weighted Average Market...  \n55           Equity characteristics-Median Market Cap  \n56  Equity characteristics-Weighted Median Market ...  \n\n[141 rows x 6 columns]"
     },
     "execution_count": 137,
     "metadata": {},
     "output_type": "execute_result"
    }
   ],
   "source": [
    "final_df"
   ]
  },
  {
   "cell_type": "markdown",
   "metadata": {},
   "source": [
    "#### Step 12 - Create excel output file with 2 tabs"
   ]
  },
  {
   "cell_type": "code",
   "execution_count": 138,
   "metadata": {},
   "outputs": [],
   "source": [
    "# Create a Pandas Excel writer using XlsxWriter as the engine.\n",
    "writer = pd.ExcelWriter('eA_output.xlsx', engine = 'xlsxwriter')\n",
    "\n",
    "# Convert the dataframe to an XlsxWriter Excel object.\n",
    "final_df.to_excel(writer, sheet_name='Characteristics', index=False)\n",
    "country_melted.to_excel(writer, sheet_name = \"Countries without Cash\", index=False)\n",
    "\n",
    "# Get the xlsxwriter objects from the dataframe writer object.\n",
    "workbook = writer.book\n",
    "worksheet_1 = writer.sheets['Characteristics']\n",
    "worksheet_2 = writer.sheets['Countries without Cash']\n",
    "\n",
    "# Add some cell formats.\n",
    "format1 = workbook.add_format()\n",
    "format2 = workbook.add_format()\n",
    "\n",
    "worksheet_1.set_column('A:A', 13, format1)\n",
    "worksheet_1.set_column('B:B', 66, format1)\n",
    "worksheet_1.set_column('C:E', 26, format1)\n",
    "worksheet_1.set_column('F:F', 45, format1)\n",
    "\n",
    "worksheet_2.set_column('A:A', 13, format2)\n",
    "worksheet_2.set_column('B:B', 66, format2)\n",
    "worksheet_2.set_column('C:C', 25, format2)\n",
    "worksheet_2.set_column('D:D', 12, format2)\n",
    "\n",
    "writer.save()"
   ]
  },
  {
   "cell_type": "code",
   "execution_count": null,
   "metadata": {},
   "outputs": [],
   "source": []
  }
 ],
 "metadata": {
  "kernelspec": {
   "display_name": "Python 3.7.9 64-bit ('ea': conda)",
   "name": "python379jvsc74a57bd0b7c3e329df1df1cf4204baf98911465b6b96b75699972bf00a2017ceb229a8d4"
  },
  "language_info": {
   "codemirror_mode": {
    "name": "ipython",
    "version": 3
   },
   "file_extension": ".py",
   "mimetype": "text/x-python",
   "name": "python",
   "nbconvert_exporter": "python",
   "pygments_lexer": "ipython3",
   "version": "3.7.9"
  }
 },
 "nbformat": 4,
 "nbformat_minor": 4
}